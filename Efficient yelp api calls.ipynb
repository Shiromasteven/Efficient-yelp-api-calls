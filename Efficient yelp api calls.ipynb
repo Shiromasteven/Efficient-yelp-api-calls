{
 "cells": [
  {
   "cell_type": "code",
   "execution_count": 10,
   "id": "65aee4f7",
   "metadata": {},
   "outputs": [],
   "source": [
    "import numpy as np\n",
    "import pandas as pd\n",
    "import matplotlib.pyplot as plt\n",
    "import seaborn as sns\n",
    "import os, json, math, time\n",
    "from yelpapi import YelpAPI\n",
    "from tqdm.notebook import tqdm_notebook\n"
   ]
  },
  {
   "cell_type": "code",
   "execution_count": 11,
   "id": "954347be",
   "metadata": {},
   "outputs": [],
   "source": [
    "with open('/Users/Steven (Dad)/.secret/yelp_api.json') as (f):\n",
    "    login =json.load(f)\n",
    "    \n",
    "yelp_api = YelpAPI(login['api-key'], timeout_s = 5.0)"
   ]
  },
  {
   "cell_type": "code",
   "execution_count": 12,
   "id": "432dd2f1",
   "metadata": {},
   "outputs": [],
   "source": [
    "LOCATION = 'Phoenix, AZ'\n",
    "TERM = 'Sushi'\n",
    "\n"
   ]
  },
  {
   "cell_type": "code",
   "execution_count": 13,
   "id": "b7fcb88b",
   "metadata": {},
   "outputs": [
    {
     "data": {
      "text/plain": [
       "'Data/results_in_progress_Sushi.json'"
      ]
     },
     "execution_count": 13,
     "metadata": {},
     "output_type": "execute_result"
    }
   ],
   "source": [
    "JSON_FILE = f\"Data/results_in_progress_Sushi.json\"\n",
    "JSON_FILE"
   ]
  },
  {
   "cell_type": "code",
   "execution_count": 14,
   "id": "9b2027c7",
   "metadata": {},
   "outputs": [
    {
     "name": "stdout",
     "output_type": "stream",
     "text": [
      "[i] Data/results_in_progress_Sushi.json not found. Saving empty list to file.\n"
     ]
    }
   ],
   "source": [
    "file_exists = os.path.isfile(JSON_FILE)\n",
    "\n",
    "if file_exists == False:\n",
    "    folder = os.path.dirname(JSON_FILE)\n",
    "    \n",
    "    if len(folder)>0:\n",
    "        os.makedirs(folder,exist_ok=True)\n",
    "        \n",
    "    print(f\"[i] {JSON_FILE} not found. Saving empty list to file.\")\n",
    "    \n",
    "    ## save the first page of results\n",
    "    with open(JSON_FILE,'w') as f:\n",
    "        json.dump([],f)  \n",
    "## If it exists, inform user\n",
    "else:\n",
    "    print(f\"[i] {JSON_FILE} already exists.\")"
   ]
  },
  {
   "cell_type": "code",
   "execution_count": 15,
   "id": "a5a57fbf",
   "metadata": {},
   "outputs": [
    {
     "name": "stdout",
     "output_type": "stream",
     "text": [
      "- 0 previous results found.\n"
     ]
    }
   ],
   "source": [
    "with open(JSON_FILE, 'r') as f:\n",
    "    previous_results = json.load(f)\n",
    "    \n",
    "n_results = len(previous_results)\n",
    "print(f'- {n_results} previous results found.')\n"
   ]
  },
  {
   "cell_type": "code",
   "execution_count": 16,
   "id": "96ab7719",
   "metadata": {},
   "outputs": [
    {
     "data": {
      "text/plain": [
       "dict_keys(['businesses', 'total', 'region'])"
      ]
     },
     "execution_count": 16,
     "metadata": {},
     "output_type": "execute_result"
    }
   ],
   "source": [
    "results = yelp_api.search_query(location=LOCATION,\n",
    "                                term=TERM,\n",
    "                               offset=n_results)\n",
    "results.keys()"
   ]
  },
  {
   "cell_type": "code",
   "execution_count": 17,
   "id": "1e9c4743",
   "metadata": {},
   "outputs": [
    {
     "data": {
      "text/plain": [
       "836"
      ]
     },
     "execution_count": 17,
     "metadata": {},
     "output_type": "execute_result"
    }
   ],
   "source": [
    "total_results = results['total']\n",
    "total_results"
   ]
  },
  {
   "cell_type": "code",
   "execution_count": 18,
   "id": "9938f20d",
   "metadata": {},
   "outputs": [
    {
     "data": {
      "text/plain": [
       "20"
      ]
     },
     "execution_count": 18,
     "metadata": {},
     "output_type": "execute_result"
    }
   ],
   "source": [
    "results_per_page = len(results['businesses'])\n",
    "results_per_page"
   ]
  },
  {
   "cell_type": "code",
   "execution_count": 19,
   "id": "f21df477",
   "metadata": {},
   "outputs": [
    {
     "data": {
      "text/plain": [
       "42"
      ]
     },
     "execution_count": 19,
     "metadata": {},
     "output_type": "execute_result"
    }
   ],
   "source": [
    "n_pages = math.ceil((results['total']-n_results)/ results_per_page)\n",
    "n_pages"
   ]
  },
  {
   "cell_type": "code",
   "execution_count": 20,
   "id": "c931a865",
   "metadata": {},
   "outputs": [],
   "source": [
    "previous_results.extend(results['businesses'])  \n",
    "with open(JSON_FILE,'w') as f:\n",
    "     json.dump(previous_results,f)"
   ]
  },
  {
   "cell_type": "code",
   "execution_count": 21,
   "id": "c0ef7728",
   "metadata": {},
   "outputs": [
    {
     "data": {
      "application/vnd.jupyter.widget-view+json": {
       "model_id": "2f55db336bb94149900f0bb39dd03551",
       "version_major": 2,
       "version_minor": 0
      },
      "text/plain": [
       "  0%|          | 0/42 [00:00<?, ?it/s]"
      ]
     },
     "metadata": {},
     "output_type": "display_data"
    }
   ],
   "source": [
    "for i in tqdm_notebook(range(n_pages)):\n",
    "    # adds 200 ms pause\n",
    "    time.sleep(.2) "
   ]
  },
  {
   "cell_type": "code",
   "execution_count": 22,
   "id": "f970301d",
   "metadata": {},
   "outputs": [
    {
     "data": {
      "application/vnd.jupyter.widget-view+json": {
       "model_id": "529cd3efa05543af8feae8a0ee27de6c",
       "version_major": 2,
       "version_minor": 0
      },
      "text/plain": [
       "  0%|          | 0/42 [00:00<?, ?it/s]"
      ]
     },
     "metadata": {},
     "output_type": "display_data"
    }
   ],
   "source": [
    "for i in tqdm_notebook( range(1,n_pages+1)):\n",
    "    time.sleep(.2)\n",
    "    ## Read in results in progress file and check the length\n",
    "    with open(JSON_FILE, 'r') as f:\n",
    "        previous_results = json.load(f)\n",
    "    ## save number of results for to use as offset\n",
    "    n_results = len(previous_results)\n",
    "    ## use n_results as the OFFSET \n",
    "    results = yelp_api.search_query(location=LOCATION,\n",
    "                                    term=TERM, \n",
    "                                    offset=n_results)\n",
    "    \n",
    "    ## append new results and save to file\n",
    "    previous_results.extend(results['businesses'])\n",
    "    \n",
    "#     display(previous_results)\n",
    "    with open(JSON_FILE,'w') as f:\n",
    "        json.dump(previous_results,f)"
   ]
  },
  {
   "cell_type": "code",
   "execution_count": 23,
   "id": "81df1497",
   "metadata": {},
   "outputs": [
    {
     "data": {
      "text/html": [
       "<div>\n",
       "<style scoped>\n",
       "    .dataframe tbody tr th:only-of-type {\n",
       "        vertical-align: middle;\n",
       "    }\n",
       "\n",
       "    .dataframe tbody tr th {\n",
       "        vertical-align: top;\n",
       "    }\n",
       "\n",
       "    .dataframe thead th {\n",
       "        text-align: right;\n",
       "    }\n",
       "</style>\n",
       "<table border=\"1\" class=\"dataframe\">\n",
       "  <thead>\n",
       "    <tr style=\"text-align: right;\">\n",
       "      <th></th>\n",
       "      <th>id</th>\n",
       "      <th>alias</th>\n",
       "      <th>name</th>\n",
       "      <th>image_url</th>\n",
       "      <th>is_closed</th>\n",
       "      <th>url</th>\n",
       "      <th>review_count</th>\n",
       "      <th>categories</th>\n",
       "      <th>rating</th>\n",
       "      <th>coordinates</th>\n",
       "      <th>transactions</th>\n",
       "      <th>price</th>\n",
       "      <th>location</th>\n",
       "      <th>phone</th>\n",
       "      <th>display_phone</th>\n",
       "      <th>distance</th>\n",
       "    </tr>\n",
       "  </thead>\n",
       "  <tbody>\n",
       "    <tr>\n",
       "      <th>0</th>\n",
       "      <td>_n0B8mRTWP6ZfX8npDGEqw</td>\n",
       "      <td>yutaka-japanese-restaurant-phoenix</td>\n",
       "      <td>Yutaka Japanese Restaurant</td>\n",
       "      <td>https://s3-media1.fl.yelpcdn.com/bphoto/GFyq1d...</td>\n",
       "      <td>False</td>\n",
       "      <td>https://www.yelp.com/biz/yutaka-japanese-resta...</td>\n",
       "      <td>665</td>\n",
       "      <td>[{'alias': 'ramen', 'title': 'Ramen'}, {'alias...</td>\n",
       "      <td>4.5</td>\n",
       "      <td>{'latitude': 33.639089, 'longitude': -112.063179}</td>\n",
       "      <td>[delivery, pickup]</td>\n",
       "      <td>$$</td>\n",
       "      <td>{'address1': '751 E Bell Rd', 'address2': 'Ste...</td>\n",
       "      <td>+16028438882</td>\n",
       "      <td>(602) 843-8882</td>\n",
       "      <td>2853.176900</td>\n",
       "    </tr>\n",
       "    <tr>\n",
       "      <th>1</th>\n",
       "      <td>S-oLPRdhlyL5HAknBKTUcQ</td>\n",
       "      <td>harumi-sushi-and-sake-downtown-phoenix</td>\n",
       "      <td>Harumi Sushi &amp; Sake- Downtown</td>\n",
       "      <td>https://s3-media1.fl.yelpcdn.com/bphoto/RGzWKj...</td>\n",
       "      <td>False</td>\n",
       "      <td>https://www.yelp.com/biz/harumi-sushi-and-sake...</td>\n",
       "      <td>2116</td>\n",
       "      <td>[{'alias': 'japanese', 'title': 'Japanese'}, {...</td>\n",
       "      <td>4.5</td>\n",
       "      <td>{'latitude': 33.4497491809777, 'longitude': -1...</td>\n",
       "      <td>[delivery, pickup]</td>\n",
       "      <td>$$</td>\n",
       "      <td>{'address1': '114 W Adams St', 'address2': 'St...</td>\n",
       "      <td>+16022580131</td>\n",
       "      <td>(602) 258-0131</td>\n",
       "      <td>20614.426085</td>\n",
       "    </tr>\n",
       "    <tr>\n",
       "      <th>2</th>\n",
       "      <td>evdJO0v9rvVixieNEnaeJg</td>\n",
       "      <td>sushiholic-phoenix</td>\n",
       "      <td>Sushiholic</td>\n",
       "      <td>https://s3-media2.fl.yelpcdn.com/bphoto/Fe1HNI...</td>\n",
       "      <td>False</td>\n",
       "      <td>https://www.yelp.com/biz/sushiholic-phoenix?ad...</td>\n",
       "      <td>1049</td>\n",
       "      <td>[{'alias': 'sushi', 'title': 'Sushi Bars'}, {'...</td>\n",
       "      <td>4.5</td>\n",
       "      <td>{'latitude': 33.5096751, 'longitude': -111.995...</td>\n",
       "      <td>[delivery]</td>\n",
       "      <td>$$</td>\n",
       "      <td>{'address1': '3957 E Camelback Rd', 'address2'...</td>\n",
       "      <td>+16029562354</td>\n",
       "      <td>(602) 956-2354</td>\n",
       "      <td>16632.911261</td>\n",
       "    </tr>\n",
       "    <tr>\n",
       "      <th>3</th>\n",
       "      <td>XFO9us6shjSRwiuLBO9T9g</td>\n",
       "      <td>kura-revolving-sushi-bar-phoenix</td>\n",
       "      <td>Kura Revolving Sushi Bar</td>\n",
       "      <td>https://s3-media2.fl.yelpcdn.com/bphoto/ZnJz7M...</td>\n",
       "      <td>False</td>\n",
       "      <td>https://www.yelp.com/biz/kura-revolving-sushi-...</td>\n",
       "      <td>169</td>\n",
       "      <td>[{'alias': 'sushi', 'title': 'Sushi Bars'}, {'...</td>\n",
       "      <td>3.5</td>\n",
       "      <td>{'latitude': 33.507777974615145, 'longitude': ...</td>\n",
       "      <td>[]</td>\n",
       "      <td>NaN</td>\n",
       "      <td>{'address1': '1949 E Camelback Rd', 'address2'...</td>\n",
       "      <td>+15204792888</td>\n",
       "      <td>(520) 479-2888</td>\n",
       "      <td>14942.956277</td>\n",
       "    </tr>\n",
       "    <tr>\n",
       "      <th>4</th>\n",
       "      <td>itJJHcstARVqibAUtxjyUQ</td>\n",
       "      <td>o2-sushi-phoenix-2</td>\n",
       "      <td>O2 Sushi</td>\n",
       "      <td>https://s3-media2.fl.yelpcdn.com/bphoto/bWpCwm...</td>\n",
       "      <td>False</td>\n",
       "      <td>https://www.yelp.com/biz/o2-sushi-phoenix-2?ad...</td>\n",
       "      <td>217</td>\n",
       "      <td>[{'alias': 'conveyorsushi', 'title': 'Conveyor...</td>\n",
       "      <td>4.5</td>\n",
       "      <td>{'latitude': 33.6790557, 'longitude': -112.030...</td>\n",
       "      <td>[delivery, pickup]</td>\n",
       "      <td>$$</td>\n",
       "      <td>{'address1': '21043 N Cave Creek Rd', 'address...</td>\n",
       "      <td>+16029712190</td>\n",
       "      <td>(602) 971-2190</td>\n",
       "      <td>7680.369098</td>\n",
       "    </tr>\n",
       "  </tbody>\n",
       "</table>\n",
       "</div>"
      ],
      "text/plain": [
       "                       id                                   alias  \\\n",
       "0  _n0B8mRTWP6ZfX8npDGEqw      yutaka-japanese-restaurant-phoenix   \n",
       "1  S-oLPRdhlyL5HAknBKTUcQ  harumi-sushi-and-sake-downtown-phoenix   \n",
       "2  evdJO0v9rvVixieNEnaeJg                      sushiholic-phoenix   \n",
       "3  XFO9us6shjSRwiuLBO9T9g        kura-revolving-sushi-bar-phoenix   \n",
       "4  itJJHcstARVqibAUtxjyUQ                      o2-sushi-phoenix-2   \n",
       "\n",
       "                            name  \\\n",
       "0     Yutaka Japanese Restaurant   \n",
       "1  Harumi Sushi & Sake- Downtown   \n",
       "2                     Sushiholic   \n",
       "3       Kura Revolving Sushi Bar   \n",
       "4                       O2 Sushi   \n",
       "\n",
       "                                           image_url  is_closed  \\\n",
       "0  https://s3-media1.fl.yelpcdn.com/bphoto/GFyq1d...      False   \n",
       "1  https://s3-media1.fl.yelpcdn.com/bphoto/RGzWKj...      False   \n",
       "2  https://s3-media2.fl.yelpcdn.com/bphoto/Fe1HNI...      False   \n",
       "3  https://s3-media2.fl.yelpcdn.com/bphoto/ZnJz7M...      False   \n",
       "4  https://s3-media2.fl.yelpcdn.com/bphoto/bWpCwm...      False   \n",
       "\n",
       "                                                 url  review_count  \\\n",
       "0  https://www.yelp.com/biz/yutaka-japanese-resta...           665   \n",
       "1  https://www.yelp.com/biz/harumi-sushi-and-sake...          2116   \n",
       "2  https://www.yelp.com/biz/sushiholic-phoenix?ad...          1049   \n",
       "3  https://www.yelp.com/biz/kura-revolving-sushi-...           169   \n",
       "4  https://www.yelp.com/biz/o2-sushi-phoenix-2?ad...           217   \n",
       "\n",
       "                                          categories  rating  \\\n",
       "0  [{'alias': 'ramen', 'title': 'Ramen'}, {'alias...     4.5   \n",
       "1  [{'alias': 'japanese', 'title': 'Japanese'}, {...     4.5   \n",
       "2  [{'alias': 'sushi', 'title': 'Sushi Bars'}, {'...     4.5   \n",
       "3  [{'alias': 'sushi', 'title': 'Sushi Bars'}, {'...     3.5   \n",
       "4  [{'alias': 'conveyorsushi', 'title': 'Conveyor...     4.5   \n",
       "\n",
       "                                         coordinates        transactions  \\\n",
       "0  {'latitude': 33.639089, 'longitude': -112.063179}  [delivery, pickup]   \n",
       "1  {'latitude': 33.4497491809777, 'longitude': -1...  [delivery, pickup]   \n",
       "2  {'latitude': 33.5096751, 'longitude': -111.995...          [delivery]   \n",
       "3  {'latitude': 33.507777974615145, 'longitude': ...                  []   \n",
       "4  {'latitude': 33.6790557, 'longitude': -112.030...  [delivery, pickup]   \n",
       "\n",
       "  price                                           location         phone  \\\n",
       "0    $$  {'address1': '751 E Bell Rd', 'address2': 'Ste...  +16028438882   \n",
       "1    $$  {'address1': '114 W Adams St', 'address2': 'St...  +16022580131   \n",
       "2    $$  {'address1': '3957 E Camelback Rd', 'address2'...  +16029562354   \n",
       "3   NaN  {'address1': '1949 E Camelback Rd', 'address2'...  +15204792888   \n",
       "4    $$  {'address1': '21043 N Cave Creek Rd', 'address...  +16029712190   \n",
       "\n",
       "    display_phone      distance  \n",
       "0  (602) 843-8882   2853.176900  \n",
       "1  (602) 258-0131  20614.426085  \n",
       "2  (602) 956-2354  16632.911261  \n",
       "3  (520) 479-2888  14942.956277  \n",
       "4  (602) 971-2190   7680.369098  "
      ]
     },
     "metadata": {},
     "output_type": "display_data"
    },
    {
     "data": {
      "text/html": [
       "<div>\n",
       "<style scoped>\n",
       "    .dataframe tbody tr th:only-of-type {\n",
       "        vertical-align: middle;\n",
       "    }\n",
       "\n",
       "    .dataframe tbody tr th {\n",
       "        vertical-align: top;\n",
       "    }\n",
       "\n",
       "    .dataframe thead th {\n",
       "        text-align: right;\n",
       "    }\n",
       "</style>\n",
       "<table border=\"1\" class=\"dataframe\">\n",
       "  <thead>\n",
       "    <tr style=\"text-align: right;\">\n",
       "      <th></th>\n",
       "      <th>id</th>\n",
       "      <th>alias</th>\n",
       "      <th>name</th>\n",
       "      <th>image_url</th>\n",
       "      <th>is_closed</th>\n",
       "      <th>url</th>\n",
       "      <th>review_count</th>\n",
       "      <th>categories</th>\n",
       "      <th>rating</th>\n",
       "      <th>coordinates</th>\n",
       "      <th>transactions</th>\n",
       "      <th>price</th>\n",
       "      <th>location</th>\n",
       "      <th>phone</th>\n",
       "      <th>display_phone</th>\n",
       "      <th>distance</th>\n",
       "    </tr>\n",
       "  </thead>\n",
       "  <tbody>\n",
       "    <tr>\n",
       "      <th>831</th>\n",
       "      <td>N-GN8S5IUhBnQXK-sk7hGg</td>\n",
       "      <td>frys-marketplace-chandler-2</td>\n",
       "      <td>Fry's Marketplace</td>\n",
       "      <td>https://s3-media1.fl.yelpcdn.com/bphoto/qjlnAB...</td>\n",
       "      <td>False</td>\n",
       "      <td>https://www.yelp.com/biz/frys-marketplace-chan...</td>\n",
       "      <td>47</td>\n",
       "      <td>[{'alias': 'drugstores', 'title': 'Drugstores'...</td>\n",
       "      <td>3.0</td>\n",
       "      <td>{'latitude': 33.2175788879395, 'longitude': -1...</td>\n",
       "      <td>[]</td>\n",
       "      <td>$$</td>\n",
       "      <td>{'address1': '985 E Riggs Rd', 'address2': '',...</td>\n",
       "      <td>+14808836500</td>\n",
       "      <td>(480) 883-6500</td>\n",
       "      <td>52638.119166</td>\n",
       "    </tr>\n",
       "    <tr>\n",
       "      <th>832</th>\n",
       "      <td>NtvCX9UEWFvHSxQj06XQ0g</td>\n",
       "      <td>safeway-scottsdale-7</td>\n",
       "      <td>Safeway</td>\n",
       "      <td>https://s3-media1.fl.yelpcdn.com/bphoto/erXfhj...</td>\n",
       "      <td>False</td>\n",
       "      <td>https://www.yelp.com/biz/safeway-scottsdale-7?...</td>\n",
       "      <td>94</td>\n",
       "      <td>[{'alias': 'grocery', 'title': 'Grocery'}]</td>\n",
       "      <td>3.0</td>\n",
       "      <td>{'latitude': 33.619372453704706, 'longitude': ...</td>\n",
       "      <td>[delivery]</td>\n",
       "      <td>$$</td>\n",
       "      <td>{'address1': '14696 N Frank Lloyd Wright Blvd'...</td>\n",
       "      <td>+14803911090</td>\n",
       "      <td>(480) 391-1090</td>\n",
       "      <td>20286.830657</td>\n",
       "    </tr>\n",
       "    <tr>\n",
       "      <th>833</th>\n",
       "      <td>ZSMvp7DrOydyr0IlZZLjKA</td>\n",
       "      <td>sprouts-farmers-market-mesa-3</td>\n",
       "      <td>SPROUTS FARMERS MARKET</td>\n",
       "      <td>https://s3-media4.fl.yelpcdn.com/bphoto/C1gjNf...</td>\n",
       "      <td>False</td>\n",
       "      <td>https://www.yelp.com/biz/sprouts-farmers-marke...</td>\n",
       "      <td>49</td>\n",
       "      <td>[{'alias': 'grocery', 'title': 'Grocery'}, {'a...</td>\n",
       "      <td>3.0</td>\n",
       "      <td>{'latitude': 33.380802, 'longitude': -111.786934}</td>\n",
       "      <td>[]</td>\n",
       "      <td>$$</td>\n",
       "      <td>{'address1': '2060 E Baseline Rd', 'address2':...</td>\n",
       "      <td>+14804013758</td>\n",
       "      <td>(480) 401-3758</td>\n",
       "      <td>40047.965626</td>\n",
       "    </tr>\n",
       "    <tr>\n",
       "      <th>834</th>\n",
       "      <td>e755zXCj5hGy6-P-1otnKg</td>\n",
       "      <td>frys-marketplace-tempe</td>\n",
       "      <td>Fry's Marketplace</td>\n",
       "      <td>https://s3-media1.fl.yelpcdn.com/bphoto/GmT3n-...</td>\n",
       "      <td>False</td>\n",
       "      <td>https://www.yelp.com/biz/frys-marketplace-temp...</td>\n",
       "      <td>92</td>\n",
       "      <td>[{'alias': 'grocery', 'title': 'Grocery'}, {'a...</td>\n",
       "      <td>3.0</td>\n",
       "      <td>{'latitude': 33.3217415032877, 'longitude': -1...</td>\n",
       "      <td>[]</td>\n",
       "      <td>$$</td>\n",
       "      <td>{'address1': '9900 S Rural Rd', 'address2': ''...</td>\n",
       "      <td>+14807836200</td>\n",
       "      <td>(480) 783-6200</td>\n",
       "      <td>37940.479374</td>\n",
       "    </tr>\n",
       "    <tr>\n",
       "      <th>835</th>\n",
       "      <td>qdyYXsF7UzmU6s8vszs0tQ</td>\n",
       "      <td>frys-marketplace-phoenix-13</td>\n",
       "      <td>Fry's Marketplace</td>\n",
       "      <td>https://s3-media1.fl.yelpcdn.com/bphoto/f083L-...</td>\n",
       "      <td>False</td>\n",
       "      <td>https://www.yelp.com/biz/frys-marketplace-phoe...</td>\n",
       "      <td>67</td>\n",
       "      <td>[{'alias': 'drugstores', 'title': 'Drugstores'...</td>\n",
       "      <td>3.5</td>\n",
       "      <td>{'latitude': 33.30389, 'longitude': -111.99888}</td>\n",
       "      <td>[]</td>\n",
       "      <td>$$</td>\n",
       "      <td>{'address1': '3949 E Chandler Blvd', 'address2...</td>\n",
       "      <td>+14807067373</td>\n",
       "      <td>(480) 706-7373</td>\n",
       "      <td>37846.269792</td>\n",
       "    </tr>\n",
       "  </tbody>\n",
       "</table>\n",
       "</div>"
      ],
      "text/plain": [
       "                         id                          alias  \\\n",
       "831  N-GN8S5IUhBnQXK-sk7hGg    frys-marketplace-chandler-2   \n",
       "832  NtvCX9UEWFvHSxQj06XQ0g           safeway-scottsdale-7   \n",
       "833  ZSMvp7DrOydyr0IlZZLjKA  sprouts-farmers-market-mesa-3   \n",
       "834  e755zXCj5hGy6-P-1otnKg         frys-marketplace-tempe   \n",
       "835  qdyYXsF7UzmU6s8vszs0tQ    frys-marketplace-phoenix-13   \n",
       "\n",
       "                       name  \\\n",
       "831       Fry's Marketplace   \n",
       "832                 Safeway   \n",
       "833  SPROUTS FARMERS MARKET   \n",
       "834       Fry's Marketplace   \n",
       "835       Fry's Marketplace   \n",
       "\n",
       "                                             image_url  is_closed  \\\n",
       "831  https://s3-media1.fl.yelpcdn.com/bphoto/qjlnAB...      False   \n",
       "832  https://s3-media1.fl.yelpcdn.com/bphoto/erXfhj...      False   \n",
       "833  https://s3-media4.fl.yelpcdn.com/bphoto/C1gjNf...      False   \n",
       "834  https://s3-media1.fl.yelpcdn.com/bphoto/GmT3n-...      False   \n",
       "835  https://s3-media1.fl.yelpcdn.com/bphoto/f083L-...      False   \n",
       "\n",
       "                                                   url  review_count  \\\n",
       "831  https://www.yelp.com/biz/frys-marketplace-chan...            47   \n",
       "832  https://www.yelp.com/biz/safeway-scottsdale-7?...            94   \n",
       "833  https://www.yelp.com/biz/sprouts-farmers-marke...            49   \n",
       "834  https://www.yelp.com/biz/frys-marketplace-temp...            92   \n",
       "835  https://www.yelp.com/biz/frys-marketplace-phoe...            67   \n",
       "\n",
       "                                            categories  rating  \\\n",
       "831  [{'alias': 'drugstores', 'title': 'Drugstores'...     3.0   \n",
       "832         [{'alias': 'grocery', 'title': 'Grocery'}]     3.0   \n",
       "833  [{'alias': 'grocery', 'title': 'Grocery'}, {'a...     3.0   \n",
       "834  [{'alias': 'grocery', 'title': 'Grocery'}, {'a...     3.0   \n",
       "835  [{'alias': 'drugstores', 'title': 'Drugstores'...     3.5   \n",
       "\n",
       "                                           coordinates transactions price  \\\n",
       "831  {'latitude': 33.2175788879395, 'longitude': -1...           []    $$   \n",
       "832  {'latitude': 33.619372453704706, 'longitude': ...   [delivery]    $$   \n",
       "833  {'latitude': 33.380802, 'longitude': -111.786934}           []    $$   \n",
       "834  {'latitude': 33.3217415032877, 'longitude': -1...           []    $$   \n",
       "835    {'latitude': 33.30389, 'longitude': -111.99888}           []    $$   \n",
       "\n",
       "                                              location         phone  \\\n",
       "831  {'address1': '985 E Riggs Rd', 'address2': '',...  +14808836500   \n",
       "832  {'address1': '14696 N Frank Lloyd Wright Blvd'...  +14803911090   \n",
       "833  {'address1': '2060 E Baseline Rd', 'address2':...  +14804013758   \n",
       "834  {'address1': '9900 S Rural Rd', 'address2': ''...  +14807836200   \n",
       "835  {'address1': '3949 E Chandler Blvd', 'address2...  +14807067373   \n",
       "\n",
       "      display_phone      distance  \n",
       "831  (480) 883-6500  52638.119166  \n",
       "832  (480) 391-1090  20286.830657  \n",
       "833  (480) 401-3758  40047.965626  \n",
       "834  (480) 783-6200  37940.479374  \n",
       "835  (480) 706-7373  37846.269792  "
      ]
     },
     "metadata": {},
     "output_type": "display_data"
    }
   ],
   "source": [
    "final_df = pd.read_json(JSON_FILE)\n",
    "display(final_df.head(), final_df.tail())"
   ]
  },
  {
   "cell_type": "code",
   "execution_count": 24,
   "id": "5a1c2fdd",
   "metadata": {},
   "outputs": [
    {
     "data": {
      "text/plain": [
       "0"
      ]
     },
     "execution_count": 24,
     "metadata": {},
     "output_type": "execute_result"
    }
   ],
   "source": [
    "final_df.duplicated(subset='id').sum()"
   ]
  },
  {
   "cell_type": "code",
   "execution_count": 25,
   "id": "8dd9d8a0",
   "metadata": {},
   "outputs": [],
   "source": [
    "final_df.to_csv('Data/final_results_Sushi.csv.gz', compression='gzip',index=False)"
   ]
  },
  {
   "cell_type": "code",
   "execution_count": null,
   "id": "d40f19b3",
   "metadata": {},
   "outputs": [],
   "source": []
  }
 ],
 "metadata": {
  "kernelspec": {
   "display_name": "Python (dojo-env)",
   "language": "python",
   "name": "dojo-env"
  },
  "language_info": {
   "codemirror_mode": {
    "name": "ipython",
    "version": 3
   },
   "file_extension": ".py",
   "mimetype": "text/x-python",
   "name": "python",
   "nbconvert_exporter": "python",
   "pygments_lexer": "ipython3",
   "version": "3.8.13"
  },
  "toc": {
   "base_numbering": 1,
   "nav_menu": {},
   "number_sections": true,
   "sideBar": true,
   "skip_h1_title": false,
   "title_cell": "Table of Contents",
   "title_sidebar": "Contents",
   "toc_cell": false,
   "toc_position": {},
   "toc_section_display": true,
   "toc_window_display": false
  }
 },
 "nbformat": 4,
 "nbformat_minor": 5
}
